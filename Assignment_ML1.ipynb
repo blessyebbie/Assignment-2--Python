{
  "nbformat": 4,
  "nbformat_minor": 0,
  "metadata": {
    "colab": {
      "name": "Assignment ML1.ipynb",
      "provenance": [],
      "collapsed_sections": [],
      "authorship_tag": "ABX9TyNAea4z13IFSV03lpU7OA7E",
      "include_colab_link": true
    },
    "kernelspec": {
      "name": "python3",
      "display_name": "Python 3"
    }
  },
  "cells": [
    {
      "cell_type": "markdown",
      "metadata": {
        "id": "view-in-github",
        "colab_type": "text"
      },
      "source": [
        "<a href=\"https://colab.research.google.com/github/blessyebbie/Assignment-2--Python/blob/master/Assignment_ML1.ipynb\" target=\"_parent\"><img src=\"https://colab.research.google.com/assets/colab-badge.svg\" alt=\"Open In Colab\"/></a>"
      ]
    },
    {
      "cell_type": "markdown",
      "metadata": {
        "id": "K27AspDT59cy",
        "colab_type": "text"
      },
      "source": [
        " ASSIGNMENT 1"
      ]
    },
    {
      "cell_type": "code",
      "metadata": {
        "id": "6Qb-_hMuemoX",
        "colab_type": "code",
        "colab": {}
      },
      "source": [
        "# 1. Write a program which will find all such numbers which are divisible by 7 but are not a multipleof 5, between 2000 and 3200 (both included). The numbers obtained should be printed in acomma-separated sequence on a single line.\n",
        "Q1=[]\n",
        "for i in range(2000,3200):\n",
        "    if(i%7==0) and (i%5==0):\n",
        "        Q1.append(str(i))"
      ],
      "execution_count": null,
      "outputs": []
    },
    {
      "cell_type": "code",
      "metadata": {
        "id": "WFE7hQ4bBZqU",
        "colab_type": "code",
        "colab": {
          "base_uri": "https://localhost:8080/",
          "height": 54
        },
        "outputId": "d1a1e271-d22b-4988-bb99-22b97d307143"
      },
      "source": [
        "print (','.join(Q1))"
      ],
      "execution_count": null,
      "outputs": [
        {
          "output_type": "stream",
          "text": [
            "2030,2065,2100,2135,2170,2205,2240,2275,2310,2345,2380,2415,2450,2485,2520,2555,2590,2625,2660,2695,2730,2765,2800,2835,2870,2905,2940,2975,3010,3045,3080,3115,3150,3185\n"
          ],
          "name": "stdout"
        }
      ]
    },
    {
      "cell_type": "code",
      "metadata": {
        "id": "sT9Jikz5BaF6",
        "colab_type": "code",
        "colab": {
          "base_uri": "https://localhost:8080/",
          "height": 51
        },
        "outputId": "f669cea9-b20b-4db1-c5ec-120ab7ed298d"
      },
      "source": [
        "# 2. Write a Python program to accept the user's first and last name and then getting them printed in the the reverse order with a space between first name and last name.\n",
        "\n",
        "first_name=input(\"input first name : \")\n",
        "last_name=input(\"input last name : \")\n"
      ],
      "execution_count": null,
      "outputs": [
        {
          "output_type": "stream",
          "text": [
            "input first name : Blessy \n",
            "input last name : Ebenezer\n"
          ],
          "name": "stdout"
        }
      ]
    },
    {
      "cell_type": "code",
      "metadata": {
        "id": "1m6GqjJ7BaT7",
        "colab_type": "code",
        "colab": {
          "base_uri": "https://localhost:8080/",
          "height": 34
        },
        "outputId": "99fd211c-a994-4676-b780-f378fc4262dc"
      },
      "source": [
        "print(last_name+ \" \" + first_name)"
      ],
      "execution_count": null,
      "outputs": [
        {
          "output_type": "stream",
          "text": [
            "Ebenezer Blessy \n"
          ],
          "name": "stdout"
        }
      ]
    },
    {
      "cell_type": "code",
      "metadata": {
        "id": "PlbNXnNxBuCz",
        "colab_type": "code",
        "colab": {}
      },
      "source": [
        "# 3. Write a Python program to find the volume of a sphere with diameter 12 cm.Formula: V=4/3 * π * r\n",
        "pie = 3.1415926535897931\n",
        "r= 6\n",
        "vol= 4/3*pie* r**3\n"
      ],
      "execution_count": null,
      "outputs": []
    },
    {
      "cell_type": "code",
      "metadata": {
        "id": "rqRXjUtSBuPl",
        "colab_type": "code",
        "colab": {
          "base_uri": "https://localhost:8080/",
          "height": 34
        },
        "outputId": "2144438f-9947-4259-eb84-60bfab685e45"
      },
      "source": [
        "print('The volume of the sphere is:',vol)"
      ],
      "execution_count": null,
      "outputs": [
        {
          "output_type": "stream",
          "text": [
            "The volume of the sphere is: 904.7786842338603\n"
          ],
          "name": "stdout"
        }
      ]
    },
    {
      "cell_type": "code",
      "metadata": {
        "id": "KgSrJd-TBuL5",
        "colab_type": "code",
        "colab": {}
      },
      "source": [
        ""
      ],
      "execution_count": null,
      "outputs": []
    },
    {
      "cell_type": "code",
      "metadata": {
        "id": "VrjN6LZxCHjY",
        "colab_type": "code",
        "colab": {}
      },
      "source": [
        ""
      ],
      "execution_count": null,
      "outputs": []
    },
    {
      "cell_type": "code",
      "metadata": {
        "id": "2W7HZQO3Bt-n",
        "colab_type": "code",
        "colab": {}
      },
      "source": [
        ""
      ],
      "execution_count": null,
      "outputs": []
    }
  ]
}