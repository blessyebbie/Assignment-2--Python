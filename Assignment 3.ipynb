{
  "nbformat": 4,
  "nbformat_minor": 0,
  "metadata": {
    "colab": {
      "name": "Untitled0.ipynb",
      "provenance": [],
      "authorship_tag": "ABX9TyNcUjb1TKBPxowV8ilDoNI+",
      "include_colab_link": true
    },
    "kernelspec": {
      "name": "python3",
      "display_name": "Python 3"
    }
  },
  "cells": [
    {
      "cell_type": "markdown",
      "metadata": {
        "id": "view-in-github",
        "colab_type": "text"
      },
      "source": [
        "<a href=\"https://colab.research.google.com/github/blessyebbie/Assignment-2--Python/blob/master/Assignment%203.ipynb\" target=\"_parent\"><img src=\"https://colab.research.google.com/assets/colab-badge.svg\" alt=\"Open In Colab\"/></a>"
      ]
    },
    {
      "cell_type": "code",
      "metadata": {
        "id": "KPPmt2bRMYDW",
        "colab_type": "code",
        "colab": {
          "base_uri": "https://localhost:8080/",
          "height": 34
        },
        "outputId": "d85c379b-039d-43cc-fd63-9c8ef5a15000"
      },
      "source": [
        "# Write a Python Program to implement your own myreduce() function which works exactly like Python's built-in function reduce() \n",
        "def myreduce(list,first,second):\n",
        "    if(first<=second):\n",
        "        minimum = first\n",
        "    else:\n",
        "        minimum = second\n",
        "    for i in list[2:]:\n",
        "        if(i<=minimum):\n",
        "            minimum = i\n",
        "    return minimum       \n",
        "list=[7,8,6,4,8,2,3,4,6,4,9,2,6,7,5,]\n",
        "print(myreduce(list,list[0],list[1]))"
      ],
      "execution_count": 8,
      "outputs": [
        {
          "output_type": "stream",
          "text": [
            "2\n"
          ],
          "name": "stdout"
        }
      ]
    },
    {
      "cell_type": "code",
      "metadata": {
        "id": "gO71M5SIMeFA",
        "colab_type": "code",
        "colab": {
          "base_uri": "https://localhost:8080/",
          "height": 34
        },
        "outputId": "f7fa6aad-22f7-412a-fbda-cc7660f37c74"
      },
      "source": [
        "#1.2 Write a Python program to implement your own myfilter() function which works exactly like Python's built-in function filter()\n",
        "def myfilter(list):\n",
        "    prime_list=[1]\n",
        "    for i in list:\n",
        "        prime = 0\n",
        "        for j in range(2,i):\n",
        "            if(i%j == 0):\n",
        "                prime = 0\n",
        "                break\n",
        "            else:\n",
        "                prime = 1\n",
        "                continue\n",
        "        if(prime):\n",
        "            prime_list.append(i)\n",
        "    return prime_list       \n",
        "list = range(1,69)\n",
        "print(myfilter(list))"
      ],
      "execution_count": 2,
      "outputs": [
        {
          "output_type": "stream",
          "text": [
            "[1, 3, 5, 7, 11, 13, 17, 19, 23, 29, 31, 37, 41, 43, 47, 53, 59, 61, 67]\n"
          ],
          "name": "stdout"
        }
      ]
    },
    {
      "cell_type": "code",
      "metadata": {
        "id": "x0Ei6k00Me57",
        "colab_type": "code",
        "colab": {
          "base_uri": "https://localhost:8080/",
          "height": 34
        },
        "outputId": "98a96af5-2ba0-4aca-bd1b-fbf535e73573"
      },
      "source": [
        "# Implement List comprehensions to produce the following lists.\n",
        "# Write List comprehensions to produce the following Lists\n",
        "\n",
        "list = ['ACADGILD']\n",
        "print([letter for letter in list])\n"
      ],
      "execution_count": 3,
      "outputs": [
        {
          "output_type": "stream",
          "text": [
            "['ACADGILD']\n"
          ],
          "name": "stdout"
        }
      ]
    },
    {
      "cell_type": "code",
      "metadata": {
        "id": "UQQMzvplMfJs",
        "colab_type": "code",
        "colab": {
          "base_uri": "https://localhost:8080/",
          "height": 34
        },
        "outputId": "f335ce09-be62-4d74-a6f7-f2867c011a2b"
      },
      "source": [
        "\n",
        "list = range(1,5)\n",
        "letter = ['x','y','z']\n",
        "print([i*j for i in letter for j in list]) "
      ],
      "execution_count": 4,
      "outputs": [
        {
          "output_type": "stream",
          "text": [
            "['x', 'xx', 'xxx', 'xxxx', 'y', 'yy', 'yyy', 'yyyy', 'z', 'zz', 'zzz', 'zzzz']\n"
          ],
          "name": "stdout"
        }
      ]
    },
    {
      "cell_type": "code",
      "metadata": {
        "id": "Wz1tf0DxM2CE",
        "colab_type": "code",
        "colab": {
          "base_uri": "https://localhost:8080/",
          "height": 34
        },
        "outputId": "1f0b0cbd-6afc-4395-a973-f5cd69f81134"
      },
      "source": [
        "out = range(1,3)\n",
        "inside = range(1,3)\n",
        "l_letter = ['x','y','z']\n",
        "print([k*j*i for i in out for j in inside for k in l_letter])"
      ],
      "execution_count": 5,
      "outputs": [
        {
          "output_type": "stream",
          "text": [
            "['x', 'y', 'z', 'xx', 'yy', 'zz', 'xx', 'yy', 'zz', 'xxxx', 'yyyy', 'zzzz']\n"
          ],
          "name": "stdout"
        }
      ]
    },
    {
      "cell_type": "code",
      "metadata": {
        "id": "7UG_hJebM2Fn",
        "colab_type": "code",
        "colab": {
          "base_uri": "https://localhost:8080/",
          "height": 34
        },
        "outputId": "c714c608-b5bd-4a44-a9ed-8da87ed22c13"
      },
      "source": [
        "lists=range(2,5)\n",
        "listed=range(3)\n",
        "print([[i+j] for i in listed for j in lists]) "
      ],
      "execution_count": 6,
      "outputs": [
        {
          "output_type": "stream",
          "text": [
            "[[2], [3], [4], [3], [4], [5], [4], [5], [6]]\n"
          ],
          "name": "stdout"
        }
      ]
    },
    {
      "cell_type": "code",
      "metadata": {
        "id": "gsvPNVlDM2Is",
        "colab_type": "code",
        "colab": {
          "base_uri": "https://localhost:8080/",
          "height": 34
        },
        "outputId": "7f6d28ab-6e0d-44ea-ff76-16367325f6d7"
      },
      "source": [
        "out=[1,2,3]\n",
        "inter=[1,2,3]\n",
        "print([(j,i) for i in out for j in inter])"
      ],
      "execution_count": 7,
      "outputs": [
        {
          "output_type": "stream",
          "text": [
            "[(1, 1), (2, 1), (3, 1), (1, 2), (2, 2), (3, 2), (1, 3), (2, 3), (3, 3)]\n"
          ],
          "name": "stdout"
        }
      ]
    },
    {
      "cell_type": "code",
      "metadata": {
        "id": "FGiz6KqmM2Oe",
        "colab_type": "code",
        "colab": {}
      },
      "source": [
        ""
      ],
      "execution_count": null,
      "outputs": []
    },
    {
      "cell_type": "code",
      "metadata": {
        "id": "3kXxGyDJM2RK",
        "colab_type": "code",
        "colab": {}
      },
      "source": [
        ""
      ],
      "execution_count": null,
      "outputs": []
    }
  ]
}